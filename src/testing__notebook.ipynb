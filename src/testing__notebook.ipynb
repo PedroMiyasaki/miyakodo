{
 "cells": [
  {
   "cell_type": "markdown",
   "metadata": {},
   "source": [
    "# Imports"
   ]
  },
  {
   "cell_type": "code",
   "execution_count": 4,
   "metadata": {},
   "outputs": [],
   "source": [
    "# Default ds/de imports\n",
    "import pandas as pd\n",
    "\n",
    "# MetaTrader5\n",
    "import MetaTrader5 as mt5\n",
    "\n",
    "# Web scraping\n",
    "import requests\n",
    "from bs4 import BeautifulSoup"
   ]
  },
  {
   "cell_type": "markdown",
   "metadata": {},
   "source": [
    "# Functions"
   ]
  },
  {
   "cell_type": "code",
   "execution_count": 11,
   "metadata": {},
   "outputs": [],
   "source": [
    "def get_small_companies(market_cap_limit=1_000_000_000) -> pd.DataFrame:\n",
    "    \"\"\"\n",
    "    Fetches stock data from Fundamentus website, cleans it, and filters for small cap companies.\n",
    "    \n",
    "    Args:\n",
    "        market_cap_limit: Maximum market cap value to consider a company as small cap\n",
    "        \n",
    "    Returns:\n",
    "        DataFrame containing filtered small cap companies\n",
    "    \"\"\"\n",
    "    # Scrape Fundamentus main table\n",
    "    url = \"https://www.fundamentus.com.br/resultado.php\"\n",
    "    \n",
    "    # Headers needed to avoid 403 Forbidden\n",
    "    headers = {\n",
    "        \"User-Agent\": \"Mozilla/5.0 (Windows NT 10.0; Win64; x64) AppleWebKit/537.36 (KHTML, like Gecko) Chrome/90.0.4430.212 Safari/537.36\"\n",
    "    }\n",
    "    \n",
    "    response = requests.get(url, headers=headers)\n",
    "    response.encoding = \"latin-1\"\n",
    "    \n",
    "    soup = BeautifulSoup(response.text, \"html.parser\")\n",
    "    table = soup.find(\"table\")\n",
    "\n",
    "    # Parse the HTML table into DataFrame\n",
    "    df = pd.read_html(str(table), decimal=\",\", thousands=\".\")[0]\n",
    "    \n",
    "    # Clean column names (remove spaces, lowercase)\n",
    "    df.columns = [col.strip().lower().replace(' ', '_') for col in df.columns]\n",
    "    \n",
    "    # Filter by desired rules (small caps)\n",
    "    # Remove NaNs\n",
    "    df = df.dropna(subset=[\"p/ativo\"])\n",
    "\n",
    "    # Filter by market cap limit\n",
    "    small_caps_df = df[df[\"p/ativo\"] <= market_cap_limit]\n",
    "    \n",
    "    return small_caps_df\n",
    "\n",
    "def get_market_book(symbol):\n",
    "    \"\"\"\n",
    "    Get market book data for a specified symbol.\n",
    "    \n",
    "    Args:\n",
    "        symbol (str): The trading symbol to get market book data for\n",
    "        \n",
    "    Returns:\n",
    "        list or None: Market book data if successful, None otherwise\n",
    "    \"\"\"\n",
    "    if not mt5.symbol_select(symbol, True):\n",
    "        print(f\"symbol_select() failed for {symbol}, error code = {mt5.last_error()}\")\n",
    "        return None\n",
    "    \n",
    "    book = mt5.market_book_get(symbol)\n",
    "    return book"
   ]
  },
  {
   "cell_type": "markdown",
   "metadata": {},
   "source": [
    "## Getting data from mql5"
   ]
  },
  {
   "cell_type": "code",
   "execution_count": 12,
   "metadata": {},
   "outputs": [],
   "source": [
    "# Initialize MetaTrader5\n",
    "if not mt5.initialize():\n",
    "    print(\"initialize() failed, error code =\", mt5.last_error())\n",
    "    quit()"
   ]
  },
  {
   "cell_type": "code",
   "execution_count": 13,
   "metadata": {},
   "outputs": [],
   "source": [
    "# Example usage\n",
    "symbol = \"TASA3\"\n",
    "book = get_market_book(symbol)\n"
   ]
  },
  {
   "cell_type": "code",
   "execution_count": 14,
   "metadata": {},
   "outputs": [],
   "source": [
    "book"
   ]
  },
  {
   "cell_type": "markdown",
   "metadata": {},
   "source": [
    "## Portfolio definition"
   ]
  },
  {
   "cell_type": "code",
   "execution_count": null,
   "metadata": {},
   "outputs": [],
   "source": [
    "# Get small caps\n",
    "small_caps = get_small_companies()"
   ]
  }
 ],
 "metadata": {
  "kernelspec": {
   "display_name": "miyakodo",
   "language": "python",
   "name": "python3"
  },
  "language_info": {
   "codemirror_mode": {
    "name": "ipython",
    "version": 3
   },
   "file_extension": ".py",
   "mimetype": "text/x-python",
   "name": "python",
   "nbconvert_exporter": "python",
   "pygments_lexer": "ipython3",
   "version": "3.11.11"
  }
 },
 "nbformat": 4,
 "nbformat_minor": 2
}
